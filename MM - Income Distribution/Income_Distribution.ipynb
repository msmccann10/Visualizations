{
  "nbformat": 4,
  "nbformat_minor": 0,
  "metadata": {
    "colab": {
      "name": "Untitled1.ipynb",
      "provenance": [],
      "authorship_tag": "ABX9TyNFPTvMziu1h3HiVukj2pQU",
      "include_colab_link": true
    },
    "kernelspec": {
      "name": "python3",
      "display_name": "Python 3"
    },
    "language_info": {
      "name": "python"
    }
  },
  "cells": [
    {
      "cell_type": "markdown",
      "metadata": {
        "id": "view-in-github",
        "colab_type": "text"
      },
      "source": [
        "<a href=\"https://colab.research.google.com/github/msmccann10/Visualizations/blob/main/MM%20-%20Income%20Distribution/Income_Distribution.ipynb\" target=\"_parent\"><img src=\"https://colab.research.google.com/assets/colab-badge.svg\" alt=\"Open In Colab\"/></a>"
      ]
    },
    {
      "cell_type": "markdown",
      "source": [
        "# **U.S. Household Income Distribution By State (Makeover Monday)**\n",
        "**Student**: Michael McCann <br>\n",
        "**Date**: 17 FEB 2022"
      ],
      "metadata": {
        "id": "kZjJZqPj69UU"
      }
    },
    {
      "cell_type": "code",
      "execution_count": null,
      "metadata": {
        "colab": {
          "base_uri": "https://localhost:8080/"
        },
        "id": "a0VyNcv76glt",
        "outputId": "ec4ea60b-a18c-4249-c111-e9dbca0f60ca"
      },
      "outputs": [
        {
          "output_type": "stream",
          "name": "stdout",
          "text": [
            "Drive already mounted at /content/drive; to attempt to forcibly remount, call drive.mount(\"/content/drive\", force_remount=True).\n"
          ]
        }
      ],
      "source": [
        "## Load Drive\n",
        "from google.colab import drive\n",
        "drive.mount('/content/drive')"
      ]
    },
    {
      "cell_type": "code",
      "source": [
        "## Import libraries\n",
        "import pandas as pd\n",
        "import numpy as np\n",
        "import matplotlib.pyplot as plt \n",
        "import seaborn as sns"
      ],
      "metadata": {
        "id": "fHpdoXpN6jJf"
      },
      "execution_count": null,
      "outputs": []
    },
    {
      "cell_type": "code",
      "source": [
        "URL = 'https://query.data.world/s/am6sthe7e77c4xj3kwvnznlu4wi3c4'\n",
        "df = pd.read_excel(URL)"
      ],
      "metadata": {
        "id": "xQ2W9S816jOm"
      },
      "execution_count": null,
      "outputs": []
    },
    {
      "cell_type": "code",
      "source": [
        "display(df.head())\n",
        "df.info()"
      ],
      "metadata": {
        "colab": {
          "base_uri": "https://localhost:8080/",
          "height": 414
        },
        "id": "Y5VkTbcj7j1_",
        "outputId": "8ffa8f8d-8e8c-4b76-c9ce-27ed801e2f5f"
      },
      "execution_count": null,
      "outputs": [
        {
          "output_type": "display_data",
          "data": {
            "text/html": [
              "\n",
              "  <div id=\"df-63907f4e-9c66-4f60-8d56-2665f52b485e\">\n",
              "    <div class=\"colab-df-container\">\n",
              "      <div>\n",
              "<style scoped>\n",
              "    .dataframe tbody tr th:only-of-type {\n",
              "        vertical-align: middle;\n",
              "    }\n",
              "\n",
              "    .dataframe tbody tr th {\n",
              "        vertical-align: top;\n",
              "    }\n",
              "\n",
              "    .dataframe thead th {\n",
              "        text-align: right;\n",
              "    }\n",
              "</style>\n",
              "<table border=\"1\" class=\"dataframe\">\n",
              "  <thead>\n",
              "    <tr style=\"text-align: right;\">\n",
              "      <th></th>\n",
              "      <th>Year</th>\n",
              "      <th>State</th>\n",
              "      <th>Income Level</th>\n",
              "      <th>Percent of Total</th>\n",
              "      <th>Number of Households</th>\n",
              "    </tr>\n",
              "  </thead>\n",
              "  <tbody>\n",
              "    <tr>\n",
              "      <th>0</th>\n",
              "      <td>2009</td>\n",
              "      <td>Alabama</td>\n",
              "      <td>$10,000 to $14,999</td>\n",
              "      <td>0.0742</td>\n",
              "      <td>134988</td>\n",
              "    </tr>\n",
              "    <tr>\n",
              "      <th>1</th>\n",
              "      <td>2009</td>\n",
              "      <td>Alabama</td>\n",
              "      <td>$15,000 to $19,999</td>\n",
              "      <td>0.0687</td>\n",
              "      <td>125046</td>\n",
              "    </tr>\n",
              "    <tr>\n",
              "      <th>2</th>\n",
              "      <td>2009</td>\n",
              "      <td>Alabama</td>\n",
              "      <td>$20,000 to $24,999</td>\n",
              "      <td>0.0661</td>\n",
              "      <td>120178</td>\n",
              "    </tr>\n",
              "    <tr>\n",
              "      <th>3</th>\n",
              "      <td>2009</td>\n",
              "      <td>Alabama</td>\n",
              "      <td>$25,000 to $29,999</td>\n",
              "      <td>0.0607</td>\n",
              "      <td>110437</td>\n",
              "    </tr>\n",
              "    <tr>\n",
              "      <th>4</th>\n",
              "      <td>2009</td>\n",
              "      <td>Alabama</td>\n",
              "      <td>$30,000 to $34,999</td>\n",
              "      <td>0.0578</td>\n",
              "      <td>105216</td>\n",
              "    </tr>\n",
              "  </tbody>\n",
              "</table>\n",
              "</div>\n",
              "      <button class=\"colab-df-convert\" onclick=\"convertToInteractive('df-63907f4e-9c66-4f60-8d56-2665f52b485e')\"\n",
              "              title=\"Convert this dataframe to an interactive table.\"\n",
              "              style=\"display:none;\">\n",
              "        \n",
              "  <svg xmlns=\"http://www.w3.org/2000/svg\" height=\"24px\"viewBox=\"0 0 24 24\"\n",
              "       width=\"24px\">\n",
              "    <path d=\"M0 0h24v24H0V0z\" fill=\"none\"/>\n",
              "    <path d=\"M18.56 5.44l.94 2.06.94-2.06 2.06-.94-2.06-.94-.94-2.06-.94 2.06-2.06.94zm-11 1L8.5 8.5l.94-2.06 2.06-.94-2.06-.94L8.5 2.5l-.94 2.06-2.06.94zm10 10l.94 2.06.94-2.06 2.06-.94-2.06-.94-.94-2.06-.94 2.06-2.06.94z\"/><path d=\"M17.41 7.96l-1.37-1.37c-.4-.4-.92-.59-1.43-.59-.52 0-1.04.2-1.43.59L10.3 9.45l-7.72 7.72c-.78.78-.78 2.05 0 2.83L4 21.41c.39.39.9.59 1.41.59.51 0 1.02-.2 1.41-.59l7.78-7.78 2.81-2.81c.8-.78.8-2.07 0-2.86zM5.41 20L4 18.59l7.72-7.72 1.47 1.35L5.41 20z\"/>\n",
              "  </svg>\n",
              "      </button>\n",
              "      \n",
              "  <style>\n",
              "    .colab-df-container {\n",
              "      display:flex;\n",
              "      flex-wrap:wrap;\n",
              "      gap: 12px;\n",
              "    }\n",
              "\n",
              "    .colab-df-convert {\n",
              "      background-color: #E8F0FE;\n",
              "      border: none;\n",
              "      border-radius: 50%;\n",
              "      cursor: pointer;\n",
              "      display: none;\n",
              "      fill: #1967D2;\n",
              "      height: 32px;\n",
              "      padding: 0 0 0 0;\n",
              "      width: 32px;\n",
              "    }\n",
              "\n",
              "    .colab-df-convert:hover {\n",
              "      background-color: #E2EBFA;\n",
              "      box-shadow: 0px 1px 2px rgba(60, 64, 67, 0.3), 0px 1px 3px 1px rgba(60, 64, 67, 0.15);\n",
              "      fill: #174EA6;\n",
              "    }\n",
              "\n",
              "    [theme=dark] .colab-df-convert {\n",
              "      background-color: #3B4455;\n",
              "      fill: #D2E3FC;\n",
              "    }\n",
              "\n",
              "    [theme=dark] .colab-df-convert:hover {\n",
              "      background-color: #434B5C;\n",
              "      box-shadow: 0px 1px 3px 1px rgba(0, 0, 0, 0.15);\n",
              "      filter: drop-shadow(0px 1px 2px rgba(0, 0, 0, 0.3));\n",
              "      fill: #FFFFFF;\n",
              "    }\n",
              "  </style>\n",
              "\n",
              "      <script>\n",
              "        const buttonEl =\n",
              "          document.querySelector('#df-63907f4e-9c66-4f60-8d56-2665f52b485e button.colab-df-convert');\n",
              "        buttonEl.style.display =\n",
              "          google.colab.kernel.accessAllowed ? 'block' : 'none';\n",
              "\n",
              "        async function convertToInteractive(key) {\n",
              "          const element = document.querySelector('#df-63907f4e-9c66-4f60-8d56-2665f52b485e');\n",
              "          const dataTable =\n",
              "            await google.colab.kernel.invokeFunction('convertToInteractive',\n",
              "                                                     [key], {});\n",
              "          if (!dataTable) return;\n",
              "\n",
              "          const docLinkHtml = 'Like what you see? Visit the ' +\n",
              "            '<a target=\"_blank\" href=https://colab.research.google.com/notebooks/data_table.ipynb>data table notebook</a>'\n",
              "            + ' to learn more about interactive tables.';\n",
              "          element.innerHTML = '';\n",
              "          dataTable['output_type'] = 'display_data';\n",
              "          await google.colab.output.renderOutput(dataTable, element);\n",
              "          const docLink = document.createElement('div');\n",
              "          docLink.innerHTML = docLinkHtml;\n",
              "          element.appendChild(docLink);\n",
              "        }\n",
              "      </script>\n",
              "    </div>\n",
              "  </div>\n",
              "  "
            ],
            "text/plain": [
              "   Year    State        Income Level  Percent of Total  Number of Households\n",
              "0  2009  Alabama  $10,000 to $14,999            0.0742                134988\n",
              "1  2009  Alabama  $15,000 to $19,999            0.0687                125046\n",
              "2  2009  Alabama  $20,000 to $24,999            0.0661                120178\n",
              "3  2009  Alabama  $25,000 to $29,999            0.0607                110437\n",
              "4  2009  Alabama  $30,000 to $34,999            0.0578                105216"
            ]
          },
          "metadata": {}
        },
        {
          "output_type": "stream",
          "name": "stdout",
          "text": [
            "<class 'pandas.core.frame.DataFrame'>\n",
            "RangeIndex: 6656 entries, 0 to 6655\n",
            "Data columns (total 5 columns):\n",
            " #   Column                Non-Null Count  Dtype  \n",
            "---  ------                --------------  -----  \n",
            " 0   Year                  6656 non-null   int64  \n",
            " 1   State                 6656 non-null   object \n",
            " 2   Income Level          6656 non-null   object \n",
            " 3   Percent of Total      6656 non-null   float64\n",
            " 4   Number of Households  6656 non-null   int64  \n",
            "dtypes: float64(1), int64(2), object(2)\n",
            "memory usage: 260.1+ KB\n"
          ]
        }
      ]
    },
    {
      "cell_type": "code",
      "source": [
        "df['Income Level'].unique() "
      ],
      "metadata": {
        "colab": {
          "base_uri": "https://localhost:8080/"
        },
        "id": "gjACdWoIIwv-",
        "outputId": "323f7fe2-298f-4303-c21b-04d4c85ce8f6"
      },
      "execution_count": null,
      "outputs": [
        {
          "output_type": "execute_result",
          "data": {
            "text/plain": [
              "array(['$10,000 to $14,999', '$15,000 to $19,999', '$20,000 to $24,999',\n",
              "       '$25,000 to $29,999', '$30,000 to $34,999', '$35,000 to $39,999',\n",
              "       '$40,000 to $44,999', '$45,000 to $49,999', '$50,000 to $59,999',\n",
              "       '$60,000 to $74,999', '$75,000 to $99,999', '$100,000 to $124,999',\n",
              "       '$125,000 to $149,999', '$150,000 to $199,999', '$200,000 or more',\n",
              "       'Less than $10,000'], dtype=object)"
            ]
          },
          "metadata": {},
          "execution_count": 45
        }
      ]
    },
    {
      "cell_type": "code",
      "source": [
        "df = df[df['Year']== 2016]\n",
        "\n",
        "df_less25 = df[(df['Income Level'] == 'Less than $10,000') | \n",
        "                (df['Income Level'] == '$10,000 to $14,999') |\n",
        "                (df['Income Level'] == '$15,000 to $19,999') |\n",
        "                (df['Income Level'] == '$20,000 to $24,999')]\n",
        "df_25to50 = df[(df['Income Level'] == '$25,000 to $29,999') | \n",
        "                (df['Income Level'] == '$30,000 to $34,999') |\n",
        "                (df['Income Level'] == '$35,000 to $39,999') |\n",
        "                (df['Income Level'] == '$40,000 to $44,999') |\n",
        "                (df['Income Level'] == '$45,000 to $49,999')]\n",
        "df_50to75 = df[(df['Income Level'] == '$50,000 to $59,999') | \n",
        "                (df['Income Level'] == '$60,000 to $74,999')]\n",
        "df_75to100 = df[(df['Income Level'] == '$75,000 to $99,999')]\n",
        "df_100t150 = df[(df['Income Level'] == '$100,000 to $124,999') | \n",
        "                (df['Income Level'] == '$125,000 to $149,999')]\n",
        "df_150plus = df[(df['Income Level'] == '$150,000 to $199,999') | \n",
        "                (df['Income Level'] == '$200,000 or more')]"
      ],
      "metadata": {
        "id": "gEi3GR0t_hp3"
      },
      "execution_count": null,
      "outputs": []
    },
    {
      "cell_type": "code",
      "source": [
        "sns.barplot(data = df, y = 'State', x = 'Percent of Total', orient = 'h');"
      ],
      "metadata": {
        "id": "xORyIN1_L4v5"
      },
      "execution_count": null,
      "outputs": []
    },
    {
      "cell_type": "code",
      "source": [
        "df_less25 = df_less25.groupby('State')['Percent of Total'].sum()\n",
        "df_25to50 = df_25to50.groupby('State')['Percent of Total'].sum()\n",
        "df_50to75 = df_50to75.groupby('State')['Percent of Total'].sum()\n",
        "df_75to100 = df_75to100.groupby('State')['Percent of Total'].sum()\n",
        "df_100t150 = df_100t150.groupby('State')['Percent of Total'].sum()\n",
        "df_150plus = df_150plus.groupby('State')['Percent of Total'].sum()"
      ],
      "metadata": {
        "id": "QEw6zdjqAG17"
      },
      "execution_count": null,
      "outputs": []
    },
    {
      "cell_type": "code",
      "source": [
        "df_less25"
      ],
      "metadata": {
        "colab": {
          "base_uri": "https://localhost:8080/"
        },
        "id": "mRVHBWHGDVza",
        "outputId": "90cba2f3-0f6e-4a65-e876-a9dfb7d2a59b"
      },
      "execution_count": null,
      "outputs": [
        {
          "output_type": "execute_result",
          "data": {
            "text/plain": [
              "State\n",
              "Alabama                 0.2910\n",
              "Alaska                  0.1411\n",
              "Arizona                 0.2333\n",
              "Arkansas                0.2962\n",
              "California              0.1970\n",
              "Colorado                0.1809\n",
              "Connecticut             0.1739\n",
              "Delaware                0.1825\n",
              "District of Columbia    0.2175\n",
              "Florida                 0.2468\n",
              "Georgia                 0.2469\n",
              "Hawaii                  0.1602\n",
              "Idaho                   0.2356\n",
              "Illinois                0.2118\n",
              "Indiana                 0.2328\n",
              "Iowa                    0.2115\n",
              "Kansas                  0.2143\n",
              "Kentucky                0.2880\n",
              "Louisiana               0.2942\n",
              "Maine                   0.2399\n",
              "Maryland                0.1488\n",
              "Massachusetts           0.1917\n",
              "Michigan                0.2416\n",
              "Minnesota               0.1803\n",
              "Mississippi             0.3250\n",
              "Missouri                0.2444\n",
              "Montana                 0.2493\n",
              "Nebraska                0.2093\n",
              "Nevada                  0.2131\n",
              "New Hampshire           0.1579\n",
              "New Jersey              0.1718\n",
              "New Mexico              0.2873\n",
              "New York                0.2232\n",
              "North Carolina          0.2535\n",
              "North Dakota            0.1939\n",
              "Ohio                    0.2450\n",
              "Oklahoma                0.2545\n",
              "Oregon                  0.2262\n",
              "Pennsylvania            0.2230\n",
              "Puerto Rico             0.5879\n",
              "Rhode Island            0.2276\n",
              "South Carolina          0.2659\n",
              "South Dakota            0.2157\n",
              "Tennessee               0.2661\n",
              "Texas                   0.2220\n",
              "Utah                    0.1632\n",
              "Vermont                 0.2124\n",
              "Virginia                0.1781\n",
              "Washington              0.1834\n",
              "West Virginia           0.3011\n",
              "Wisconsin               0.2107\n",
              "Wyoming                 0.1921\n",
              "Name: Percent of Total, dtype: float64"
            ]
          },
          "metadata": {},
          "execution_count": 49
        }
      ]
    }
  ]
}